{
 "cells": [
  {
   "cell_type": "code",
   "execution_count": null,
   "id": "efe13769-525f-4f3f-b3ba-c90fb76ac38f",
   "metadata": {},
   "outputs": [],
   "source": []
  }
 ],
 "metadata": {
  "kernelspec": {
   "display_name": "",
   "name": ""
  },
  "language_info": {
   "name": ""
  }
 },
 "nbformat": 4,
 "nbformat_minor": 5
}
